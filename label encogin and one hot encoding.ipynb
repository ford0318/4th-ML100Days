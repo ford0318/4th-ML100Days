{
 "cells": [
  {
   "cell_type": "markdown",
   "metadata": {},
   "source": [
    "## LabelEncoding"
   ]
  },
  {
   "cell_type": "code",
   "execution_count": null,
   "metadata": {},
   "outputs": [],
   "source": [
    "import pandas as pd\n",
    "\n",
    "df = pd.DataFrame({'size':['XXL', 'XL', 'L', 'M', 'S']})\n",
    "\n",
    "\n",
    "# Using Pandas\n",
    "\n",
    "cat = pd.Categorical(df['size'], categories=df['size'].unique(), ordered=True)\n",
    "\n",
    "df['size_code'] = cat.codes\n",
    "\n",
    "# Using sklearn\n",
    "\n",
    "from sklearn import preprocessing\n",
    "\n",
    "le = preprocessing.LabelEncoder()\n",
    "\n",
    "le.fit(df['tw'])\n",
    "\n",
    "le.transform(df['size'])"
   ]
  },
  {
   "cell_type": "markdown",
   "metadata": {},
   "source": [
    "## One Hot Encoding (Dummies)"
   ]
  },
  {
   "cell_type": "code",
   "execution_count": 4,
   "metadata": {},
   "outputs": [
    {
     "data": {
      "text/plain": [
       "array([[1., 0., 0., 1., 0., 0., 0., 0., 1.]])"
      ]
     },
     "execution_count": 4,
     "metadata": {},
     "output_type": "execute_result"
    }
   ],
   "source": [
    "import pandas as pd\n",
    "\n",
    "# Using Pandas\n",
    "\n",
    "df = pd.DataFrame({'A': ['a', 'b', 'a'], 'B': ['b', 'a', 'c']})\n",
    "\n",
    "pd.get_dummies(df)\n",
    "\n",
    "\n",
    "\n",
    "# Using sklearn\n",
    "from sklearn import preprocessing\n",
    "\n",
    "enc = preprocessing.OneHotEncoder()\n",
    "\n",
    "enc.fit([[0, 0, 3], [1, 1, 0], [0, 2, 1], [1, 0, 2]])\n",
    "\n",
    "enc.transform([[0, 1, 3]]).toarray()"
   ]
  },
  {
   "cell_type": "code",
   "execution_count": 7,
   "metadata": {},
   "outputs": [
    {
     "data": {
      "text/html": [
       "<div>\n",
       "<style scoped>\n",
       "    .dataframe tbody tr th:only-of-type {\n",
       "        vertical-align: middle;\n",
       "    }\n",
       "\n",
       "    .dataframe tbody tr th {\n",
       "        vertical-align: top;\n",
       "    }\n",
       "\n",
       "    .dataframe thead th {\n",
       "        text-align: right;\n",
       "    }\n",
       "</style>\n",
       "<table border=\"1\" class=\"dataframe\">\n",
       "  <thead>\n",
       "    <tr style=\"text-align: right;\">\n",
       "      <th></th>\n",
       "      <th>A_a</th>\n",
       "      <th>A_b</th>\n",
       "      <th>B_a</th>\n",
       "      <th>B_b</th>\n",
       "      <th>B_c</th>\n",
       "    </tr>\n",
       "  </thead>\n",
       "  <tbody>\n",
       "    <tr>\n",
       "      <th>0</th>\n",
       "      <td>1</td>\n",
       "      <td>0</td>\n",
       "      <td>0</td>\n",
       "      <td>1</td>\n",
       "      <td>0</td>\n",
       "    </tr>\n",
       "    <tr>\n",
       "      <th>1</th>\n",
       "      <td>0</td>\n",
       "      <td>1</td>\n",
       "      <td>1</td>\n",
       "      <td>0</td>\n",
       "      <td>0</td>\n",
       "    </tr>\n",
       "    <tr>\n",
       "      <th>2</th>\n",
       "      <td>1</td>\n",
       "      <td>0</td>\n",
       "      <td>0</td>\n",
       "      <td>0</td>\n",
       "      <td>1</td>\n",
       "    </tr>\n",
       "  </tbody>\n",
       "</table>\n",
       "</div>"
      ],
      "text/plain": [
       "   A_a  A_b  B_a  B_b  B_c\n",
       "0    1    0    0    1    0\n",
       "1    0    1    1    0    0\n",
       "2    1    0    0    0    1"
      ]
     },
     "execution_count": 7,
     "metadata": {},
     "output_type": "execute_result"
    }
   ],
   "source": [
    "df\n",
    "pd.get_dummies(df)"
   ]
  },
  {
   "cell_type": "code",
   "execution_count": 8,
   "metadata": {},
   "outputs": [
    {
     "data": {
      "text/plain": [
       "OneHotEncoder(categories='auto', drop=None, dtype=<class 'numpy.float64'>,\n",
       "              handle_unknown='error', sparse=True)"
      ]
     },
     "execution_count": 8,
     "metadata": {},
     "output_type": "execute_result"
    }
   ],
   "source": [
    "enc.fit([[0, 0, 3], [1, 1, 0], [0, 2, 1], [1, 0, 2]])"
   ]
  },
  {
   "cell_type": "code",
   "execution_count": 9,
   "metadata": {},
   "outputs": [
    {
     "data": {
      "text/plain": [
       "array([[1., 0., 0., 1., 0., 0., 0., 0., 1.]])"
      ]
     },
     "execution_count": 9,
     "metadata": {},
     "output_type": "execute_result"
    }
   ],
   "source": [
    "enc.transform([[0, 1, 3]]).toarray()"
   ]
  },
  {
   "cell_type": "code",
   "execution_count": 4,
   "metadata": {},
   "outputs": [
    {
     "name": "stdout",
     "output_type": "stream",
     "text": [
      "0.001674055614633405 1.0051430221000262 -0.022262740036075174 3.0881885215243017\n",
      "-0.02293007688709934 1.9963668266428847 -0.003480600064472565 3.0303240021702025\n",
      "0.5094885423567614 0.6990353790558158 0.8304161038046113 3.467943364476144\n",
      "2.0005950907315393 1.1534493207832146 0.005973492916140229 1.816069487794795\n"
     ]
    },
    {
     "name": "stderr",
     "output_type": "stream",
     "text": [
      "C:\\Users\\TanziAI\\.conda\\envs\\newtensorflow\\lib\\site-packages\\ipykernel_launcher.py:51: MatplotlibDeprecationWarning: \n",
      "The 'normed' kwarg was deprecated in Matplotlib 2.1 and will be removed in 3.1. Use 'density' instead.\n",
      "C:\\Users\\TanziAI\\.conda\\envs\\newtensorflow\\lib\\site-packages\\ipykernel_launcher.py:52: MatplotlibDeprecationWarning: \n",
      "The 'normed' kwarg was deprecated in Matplotlib 2.1 and will be removed in 3.1. Use 'density' instead.\n",
      "C:\\Users\\TanziAI\\.conda\\envs\\newtensorflow\\lib\\site-packages\\ipykernel_launcher.py:53: MatplotlibDeprecationWarning: \n",
      "The 'normed' kwarg was deprecated in Matplotlib 2.1 and will be removed in 3.1. Use 'density' instead.\n"
     ]
    },
    {
     "data": {
      "image/png": "[encoded data removed]",
      "text/plain": [
       "<Figure size 432x288 with 1 Axes>"
      ]
     },
     "metadata": {
      "needs_background": "light"
     },
     "output_type": "display_data"
    }
   ],
   "source": [
    "import matplotlib.pyplot as plt\n",
    "import math\n",
    "import numpy as np\n",
    "def calc(data):\n",
    "    n=len(data) # 10000个数\n",
    "    niu=0.0 # niu表示平均值,即期望.\n",
    "    niu2=0.0 # niu2表示平方的平均值\n",
    "    niu3=0.0 # niu3表示三次方的平均值\n",
    "    for a in data:\n",
    "        niu += a\n",
    "        niu2 += a**2\n",
    "        niu3 += a**3\n",
    "    niu /= n  \n",
    "    niu2 /= n\n",
    "    niu3 /= n\n",
    "    sigma = math.sqrt(niu2 - niu*niu)\n",
    "    return [niu,sigma,niu3]\n",
    "\n",
    "def calc_stat(data):\n",
    "    [niu, sigma, niu3]=calc(data)\n",
    "    n=len(data)\n",
    "    niu4=0.0 # niu4计算峰度计算公式的分子\n",
    "    for a in data:\n",
    "        a -= niu\n",
    "        niu4 += a**4\n",
    "    niu4 /= n\n",
    "\n",
    "    skew =(niu3 -3*niu*sigma**2-niu**3)/(sigma**3) # 偏度计算公式\n",
    "    kurt=niu4/(sigma**4) # 峰度计算公式:下方为方差的平方即为标准差的四次方\n",
    "    return [niu, sigma,skew,kurt]\n",
    "\n",
    "if __name__ == \"__main__\":\n",
    "    data =  list(np.random.randn(10000)) # 满足高斯分布的10000个数\n",
    "    data2 = list(2*np.random.randn(10000))  # 将满足好高斯分布的10000个数乘以两倍,方差变成四倍\n",
    "    data3 =[x for x in data if x>-0.5] # 取data中>-0.5的值\n",
    "    data4 = list(np.random.uniform(0,4,10000)) # 取0~4的均匀分布\n",
    "    [niu, sigma, skew, kurt] = calc_stat(data)\n",
    "    [niu_2, sigma2, skew2, kurt2] = calc_stat(data2)\n",
    "    [niu_3, sigma3, skew3, kurt3] = calc_stat(data3)\n",
    "    [niu_4, sigma4, skew4, kurt4] = calc_stat(data4)\n",
    "    print (niu, sigma, skew, kurt)\n",
    "    print (niu_2, sigma2, skew2, kurt2)\n",
    "    print (niu_3, sigma3, skew3, kurt3)\n",
    "    print (niu_4, sigma4, skew4, kurt4)\n",
    "    info = r'$\\mu=%.2f,\\ \\sigma=%.2f,\\ skew=%.2f,\\ kurt=%.2f$' %(niu,sigma, skew, kurt) # 标注\n",
    "    info2 = r'$\\mu=%.2f,\\ \\sigma=%.2f,\\ skew=%.2f,\\ kurt=%.2f$' %(niu_2,sigma2, skew2, kurt2)\n",
    "    info3 = r'$\\mu=%.2f,\\ \\sigma=%.2f,\\ skew=%.2f,\\ kurt=%.2f$' %(niu_3,sigma3, skew3, kurt3)\n",
    "    plt.text(1,0.38,info,bbox=dict(facecolor='red',alpha=0.25))\n",
    "    plt.text(1,0.35,info2,bbox=dict(facecolor='green',alpha=0.25))\n",
    "    plt.text(1,0.32,info3,bbox=dict(facecolor='blue',alpha=0.25))\n",
    "    plt.hist(data,100,normed=True,facecolor='r',alpha=0.9)\n",
    "    plt.hist(data2,100,normed=True,facecolor='g',alpha=0.8)\n",
    "    plt.hist(data4,100,normed=True,facecolor='b',alpha=0.7)\n",
    "    plt.grid(True)\n",
    "    plt.show()\n"
   ]
  },
  {
   "cell_type": "code",
   "execution_count": null,
   "metadata": {},
   "outputs": [],
   "source": []
  }
 ],
 "metadata": {
  "kernelspec": {
   "display_name": "Python 3",
   "language": "python",
   "name": "python3"
  },
  "language_info": {
   "codemirror_mode": {
    "name": "ipython",
    "version": 3
   },
   "file_extension": ".py",
   "mimetype": "text/x-python",
   "name": "python",
   "nbconvert_exporter": "python",
   "pygments_lexer": "ipython3",
   "version": "3.7.6"
  }
 },
 "nbformat": 4,
 "nbformat_minor": 4
}
